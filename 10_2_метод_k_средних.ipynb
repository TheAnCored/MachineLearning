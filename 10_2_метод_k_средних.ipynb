{
 "cells": [
  {
   "cell_type": "code",
   "execution_count": null,
   "metadata": {
    "vscode": {
     "languageId": "plaintext"
    }
   },
   "outputs": [],
   "source": [
    "import numpy as np\n",
    "\n",
    "class KMeans(object):\n",
    "    def __init__(self, K, init):\n",
    "        self.K = K\n",
    "        self.centroids = np.array(init)\n",
    "\n",
    "    def fit(self, X):\n",
    "        X = np.array(X)\n",
    "        n_samples = X.shape[0]\n",
    "        \n",
    "        while True:\n",
    "            distances = np.linalg.norm(X[:, np.newaxis] - self.centroids, axis=2)\n",
    "            labels = np.argmin(distances, axis=1)\n",
    "            \n",
    "            old_centroids = self.centroids.copy()\n",
    "            \n",
    "            for i in range(self.K):\n",
    "                points_in_cluster = X[labels == i]\n",
    "                if len(points_in_cluster) > 0:\n",
    "                    self.centroids[i] = points_in_cluster.mean(axis=0)\n",
    "            \n",
    "            max_shift = np.max(np.linalg.norm(self.centroids - old_centroids, axis=1))\n",
    "            if max_shift <= 0.001:\n",
    "                break\n",
    "\n",
    "    def predict(self, X):\n",
    "        X = np.array(X)\n",
    "        distances = np.linalg.norm(X[:, np.newaxis] - self.centroids, axis=2)\n",
    "        return np.argmin(distances, axis=1)\n"
   ]
  }
 ],
 "metadata": {
  "language_info": {
   "name": "python"
  }
 },
 "nbformat": 4,
 "nbformat_minor": 2
}
