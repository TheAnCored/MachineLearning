{
 "cells": [
  {
   "cell_type": "markdown",
   "metadata": {
    "id": "lEUdoNRoPVtP"
   },
   "source": [
    "# 4.2 Линейная регрессия\n",
    "\n",
    "Вам предложен шаблон класса LinearRegression. Реализуйте методы  .fit() и .predict() соответствующие изложенной выше модели. В рамках выполнения этого задания можно пользоваться только библиотекой numpy. Использование любых других библиотек приведёт к ошибке при проверке задания автоматизированной системой. Также мы просим Вас не менять название класса и обозначенных методов, это также приведёт к ошибке. Добавлять свои методы в класс можно.\n",
    "\n",
    "Полученные коэффициенты модели должны храниться в поле .coef_\n",
    "\n",
    "\n",
    "Шаблон класса LinearRegression приведён ниже. Заполните все необходимые пропуски и отправьте получившийся файл в яндекс.контест. Не забудьте про все необходимые импорты."
   ]
  },
  {
   "cell_type": "code",
   "execution_count": null,
   "metadata": {
    "id": "dU3HOMJgPqBr"
   },
   "outputs": [],
   "source": [
    "import numpy as np\n",
    "np.random.seed(42)\n",
    "\n",
    "class LinearRegression:\n",
    "    def __init__(self, **kwargs):\n",
    "        self.coef_ = None\n",
    "        pass\n",
    "\n",
    "    def fit(self, x: np.array, y: np.array):\n",
    "        # TODO: напишите метод .fit() класса LinearRegression\n",
    "        result = np.column_stack((x, np.ones(x.shape[0])))\n",
    "        self.coef_ = np.linalg.inv(result.transpose().dot(result))@result.transpose()@y\n",
    "        pass\n",
    "\n",
    "    def predict(self, x: np.array):\n",
    "        # TODO: напишите метод .predict(x) класса LinearRegression\n",
    "        x = np.column_stack((x, np.ones(x.shape[0])))\n",
    "        return x @ self.coef_\n"
   ]
  },
  {
   "cell_type": "code",
   "execution_count": 208,
   "metadata": {},
   "outputs": [
    {
     "name": "stdout",
     "output_type": "stream",
     "text": [
      "2 4\n"
     ]
    },
    {
     "data": {
      "text/plain": [
       "array([[1., 2., 3., 1.],\n",
       "       [3., 4., 5., 1.]])"
      ]
     },
     "execution_count": 208,
     "metadata": {},
     "output_type": "execute_result"
    }
   ],
   "source": [
    "# Создаем пример массива\n",
    "array = np.array([[1, 2, 3], [3, 4, 5]])\n",
    "\n",
    "# Новый столбец\n",
    "new_column = np.ones(2)\n",
    "\n",
    "# Добавляем новый столбец\n",
    "result = np.column_stack((array, new_column))\n",
    "\n",
    "print(result.shape[0], result.shape[1])\n",
    "result"
   ]
  },
  {
   "cell_type": "markdown",
   "metadata": {
    "id": "f06g1RrC8DfQ"
   },
   "source": [
    "## Примечания\n",
    "\n",
    "1. Не забывайте добавлять столбец единиц (он нужен для добавления смещений).\n",
    "2. При использовании различных матричных операций не забывайте проверять соответствие размерностей матриц-операндов. Не забывайте делать транспонирование там, где это требуется\n",
    "3. Обращайте внимание на названия полей (self.coef_), методов (fit, predict) и порядка их параметров в предлагаемом шаблоне (см. выше). Сдаваемый на проверку код должен соответствовать предлагаемому шаблону."
   ]
  },
  {
   "cell_type": "markdown",
   "metadata": {
    "id": "isxUi414ayQG"
   },
   "source": [
    "## Примеры входных и выходных данных"
   ]
  },
  {
   "cell_type": "code",
   "execution_count": 209,
   "metadata": {
    "colab": {
     "base_uri": "https://localhost:8080/"
    },
    "id": "FGDMXUXhccmT",
    "outputId": "fb21e2bf-6da5-4fbd-9953-d9cf18817dcf"
   },
   "outputs": [],
   "source": [
    "from sklearn.datasets import load_diabetes\n",
    "from sklearn.model_selection import train_test_split\n",
    "\n",
    "X, y = load_diabetes(return_X_y=True) #Этот датасет уже предобработан"
   ]
  },
  {
   "cell_type": "code",
   "execution_count": 210,
   "metadata": {
    "id": "h_hDh_jbdWP3"
   },
   "outputs": [],
   "source": [
    "# Разбиение датасета на тренировочную и тестовую часть\n",
    "X_train, x_test, y_train, y_test = train_test_split(X, y, test_size=0.3, shuffle=True, random_state=42)"
   ]
  },
  {
   "cell_type": "code",
   "execution_count": 211,
   "metadata": {
    "id": "niqmVx9XdOlt"
   },
   "outputs": [],
   "source": [
    "# Создание объекта Вашего класса и его обучение\n",
    "LinReg = LinearRegression()\n",
    "LinReg.fit(X_train, y_train)"
   ]
  },
  {
   "cell_type": "code",
   "execution_count": 212,
   "metadata": {
    "colab": {
     "base_uri": "https://localhost:8080/"
    },
    "id": "Woq868gXdSPS",
    "outputId": "1b46dc27-8192-4ada-a26e-610fa330a8f1"
   },
   "outputs": [],
   "source": [
    "# Прогноз на тестовом датасете\n",
    "predictions = LinReg.predict(x_test)"
   ]
  },
  {
   "cell_type": "code",
   "execution_count": 213,
   "metadata": {
    "colab": {
     "base_uri": "https://localhost:8080/"
    },
    "id": "e9FgmjBJdhC8",
    "outputId": "03a620fb-214a-4a9f-c665-991505272e44"
   },
   "outputs": [
    {
     "data": {
      "text/plain": [
       "0.47728971643226115"
      ]
     },
     "execution_count": 213,
     "metadata": {},
     "output_type": "execute_result"
    }
   ],
   "source": [
    "# Оценка качества прогноза\n",
    "from sklearn.metrics import r2_score\n",
    "\n",
    "r2_score(y_test, predictions)"
   ]
  }
 ],
 "metadata": {
  "colab": {
   "provenance": []
  },
  "kernelspec": {
   "display_name": "Python 3",
   "name": "python3"
  },
  "language_info": {
   "codemirror_mode": {
    "name": "ipython",
    "version": 3
   },
   "file_extension": ".py",
   "mimetype": "text/x-python",
   "name": "python",
   "nbconvert_exporter": "python",
   "pygments_lexer": "ipython3",
   "version": "3.12.6"
  }
 },
 "nbformat": 4,
 "nbformat_minor": 0
}
