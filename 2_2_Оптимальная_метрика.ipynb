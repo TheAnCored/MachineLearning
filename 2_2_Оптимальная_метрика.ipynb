{
  "nbformat": 4,
  "nbformat_minor": 0,
  "metadata": {
    "colab": {
      "provenance": []
    },
    "kernelspec": {
      "name": "python3",
      "display_name": "Python 3"
    },
    "language_info": {
      "name": "python"
    }
  },
  "cells": [
    {
      "cell_type": "markdown",
      "source": [
        "# Оптимальная метрика\n",
        "\n",
        "В этом задании Вам предлагается подобрать оптимальную метрику и оптимальное значение гиперпараметра K из диапазона [1,50] для решения задачи классификации на примере датасета Ирисов Фишера. Этот датасет можно загрузить из модуля sklearn.datasets.\n",
        "\n",
        "Качества оценивается при помощи метрики accuracy при помощи методики кросс-валидации. Об этой методике можно подробнее прочитать в [документации sklearn](https://scikit-learn.org/stable/modules/generated/sklearn.model_selection.cross_val_score.html).\n",
        "\n",
        "Мы предлагаем Вам заполнить недостающие команды в следующем скелете кода и разобраться, какую метрику оптимально применять для решения данной задачи. В ответе на задание необходимо указать эту метрику.\n",
        "\n",
        "Попробуйте 3 варианта: манхэттенское расстояние, евклидово расстояние и косинусное расстояние. Полный список возможных метрик можно посмотреть по [ссылке](https://scikit-learn.org/stable/modules/generated/sklearn.metrics.pairwise.distance_metrics.html#sklearn.metrics.pairwise.distance_metrics). Меняйте этот параметр, изменяя значение аргумента `metric` при создании объекта класса `KNeighborsClassifier`. Найдите пару \"метрика\"-\"K\", для которой получается наилучшее качество и в качестве ответа укажите **найденную метрику**\n",
        "\n",
        "**Замечание**: параметр *n_splits* - это количество разбиений `cv` в кросс-валидации. В качестве итоговой метрики берётся усреднение полученных значений метрик по всем разбиениям."
      ],
      "metadata": {
        "id": "Vul_oMFvIqYL"
      }
    },
    {
      "cell_type": "code",
      "source": [
        "import sklearn\n",
        "import numpy as np\n",
        "from sklearn.metrics import accuracy_score\n",
        "from sklearn.model_selection import cross_val_score\n",
        "from sklearn.neighbors import KNeighborsClassifier\n",
        "\n",
        "random_seed = 4238\n",
        "\n",
        "np.random.seed(random_seed)\n",
        "n_splits = 3\n",
        "\n",
        "from sklearn.datasets import load_iris\n",
        "\n",
        "X, y = load_iris(return_X_y=True)\n",
        "\n",
        "\"\"\"\n",
        "  Здесь Вам предлагается написать тело цикла для подбора оптимального K\n",
        "  Результаты оценки алгоритма при каждом отдельно взятом K рекомендуем записывать в список cv_scores\n",
        "\"\"\"\n",
        "max_score = 0\n",
        "metrics = {0:'euclidean', 1:'manhattan', 2:'cosine'}\n",
        "\n",
        "for k in range(1, 51):\n",
        "    m = [ KNeighborsClassifier(n_neighbors = k, metric=metrics[0]),\n",
        "          KNeighborsClassifier(n_neighbors = k, metric=metrics[1]),\n",
        "          KNeighborsClassifier(n_neighbors = k, metric=metrics[2])]\n",
        "    meanings = []\n",
        "\n",
        "    for i in range(3):\n",
        "        score = cross_val_score( m[i], X, y, cv = n_splits)\n",
        "        meanings.append(score.mean())\n",
        "\n",
        "        if meanings[-1] > max_score:\n",
        "            index = i\n",
        "            max_score = meanings[-1]\n",
        "\n",
        "\n",
        "print(f'Max score is {max_score} by {metrics[index]} metric')"
      ],
      "metadata": {
        "id": "G9zTXC4TIsoG",
        "colab": {
          "base_uri": "https://localhost:8080/"
        },
        "outputId": "8c1c803d-c708-4b44-e190-c903ee9ab2ce"
      },
      "execution_count": 12,
      "outputs": [
        {
          "output_type": "stream",
          "name": "stdout",
          "text": [
            "Max score is 0.9866666666666667 by euclidean metric\n"
          ]
        }
      ]
    }
  ]
}