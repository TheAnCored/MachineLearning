{
 "cells": [
  {
   "cell_type": "markdown",
   "metadata": {
    "id": "tttQs1_6kJ5c"
   },
   "source": [
    "# Оптимальное ядро\n",
    "\n",
    "Ваша задача - подобрать оптимальное ядро для решения задачи классификации датасета `breast cancer` при помощи алгоритма `SVC`. Заполните шаблон кода, приведённый ниже, и выберите оптимальное ядро при фиксированных остальных гиперпараметрах.\n",
    "\n",
    "Значения других гиперпараметров:\n",
    "\n",
    "* C = 1.0\n",
    "* degree (для полиномиального ядра) = 2\n",
    "* gamma = 'auto'\n",
    "* random_state = 42\n",
    "\n",
    "Ядра, которые слеедует попробовать: линейное, полиномиальное, радиальное, сигмоидальное.\n",
    "\n",
    "В качестве ответа укажите строковое название наилучшего ядра без кавычек и других дополнительных символов в нижнем регистре. Имеется в виду название, которое Вы передаёте в аргумент SVC (то есть, например, не `полиномиальное`, а `poly`)\n",
    "\n",
    "Для проверки качества решения задачи используйте `accuracy` с применением разбиения выборки на train и test с параметром `test_size=0.2` и `random_state=42`.\n",
    "\n",
    "Не забудьте об использовании `StandardScaler`"
   ]
  },
  {
   "cell_type": "code",
   "execution_count": 5,
   "metadata": {
    "id": "LwwrTz0BkL5r"
   },
   "outputs": [
    {
     "data": {
      "text/plain": [
       "array([0.95614035, 0.98245614, 0.80701754, 0.95614035])"
      ]
     },
     "execution_count": 5,
     "metadata": {},
     "output_type": "execute_result"
    }
   ],
   "source": [
    "import numpy as np\n",
    "from sklearn import datasets  \n",
    "from sklearn.svm import SVC\n",
    "from sklearn.preprocessing import StandardScaler\n",
    "from sklearn.model_selection import train_test_split\n",
    "\n",
    "data = datasets.load_breast_cancer()\n",
    "X, y = data.data, data.target\n",
    "\n",
    "X_train, X_test, y_train, y_test = train_test_split(X, y, test_size=0.2, random_state=42)\n",
    "\n",
    "scaler = StandardScaler()\n",
    "scaler.fit(X_train)\n",
    "X_train_scaled = scaler.transform(X_train)\n",
    "X_test_scaled = scaler.transform(X_test)\n",
    "\n",
    "svm_kernels = [\n",
    "  \tSVC(kernel=\"linear\", C=1.0, random_state=42),\n",
    "    SVC(kernel='rbf',  C=1.0, gamma='auto', random_state=42),  # уменьшите gamma для контроля сложности\n",
    "    SVC(kernel='poly', C=1.0,  gamma='auto', degree=2),\n",
    "    SVC(kernel='sigmoid', C=1.0, gamma='auto')\n",
    "]\n",
    "\n",
    "def compare_svm_kernels(X_train, X_test, y_train, y_test, kernels)->np.array:\n",
    "\tfor kernel in kernels:\n",
    "\t\tkernel.fit(X_train, y_train)\n",
    "\n",
    "\tscore = [ kernel.score(X_test, y_test) for kernel in kernels]\n",
    "\n",
    "\treturn np.array(score)\n",
    "\n",
    "score = compare_svm_kernels(X_train_scaled, X_test_scaled, y_train, y_test, svm_kernels)\n",
    "score"
   ]
  }
 ],
 "metadata": {
  "colab": {
   "provenance": []
  },
  "kernelspec": {
   "display_name": "Python 3",
   "name": "python3"
  },
  "language_info": {
   "codemirror_mode": {
    "name": "ipython",
    "version": 3
   },
   "file_extension": ".py",
   "mimetype": "text/x-python",
   "name": "python",
   "nbconvert_exporter": "python",
   "pygments_lexer": "ipython3",
   "version": "3.12.6"
  }
 },
 "nbformat": 4,
 "nbformat_minor": 0
}
