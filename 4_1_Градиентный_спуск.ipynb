{
 "cells": [
  {
   "cell_type": "markdown",
   "metadata": {
    "id": "zVKa9zcWdm-p"
   },
   "source": [
    "# 3.1 Градиентный спуск\n",
    "\n",
    "В этом задании нам предстоит реализовать классический алгоритм градиентного спуска для обучения модели логистической регрессии.\n",
    "\n",
    "Алгоритм выполнения этого задания следующий:\n",
    "\n",
    "* На основе частных производных, посчитанных на лекции, напишем функцию подсчета градиента бинарной кросс-энтропии по параметрам модели\n",
    "\n",
    "* Напишем функцию обновления весов по посчитанным градиентам\n",
    "\n",
    "* Напишем функцию тренировки модели\n",
    "\n",
    "Замечание:\n",
    "Тренировка модели проводится в несколько циклов, в рамках каждого из которых мы обновим веса модели, основываясь на предсказании для **каждого** объекта из датасета. Такие циклы называются *эпохами*. То есть одна эпоха - это набор обновлений весов, реализованный согласно посчитанным для каждого объекта из датасета ошибкам модели.\n",
    "\n",
    "Вам необходимо реализовать обучение модели в несколько эпох. Их количество задается параметром функции. В рамках каждой эпохи необходимо пройти циклом по всем объектам обучающей выборки и обновить веса модели."
   ]
  },
  {
   "cell_type": "markdown",
   "metadata": {
    "id": "zrTqdyBid_G8"
   },
   "source": [
    "Шаблон кода для заполнения:"
   ]
  },
  {
   "cell_type": "code",
   "execution_count": 11,
   "metadata": {
    "id": "CCM4EIh_d8-n"
   },
   "outputs": [],
   "source": [
    "import numpy as np\n",
    "\n",
    "np.random.seed(42)\n",
    "\n",
    "def sigmoid(x: np.array, alpha: np.array):\n",
    "        # TODO: напишите метод .predict(x) класса LinearRegression\n",
    "        return 1/(1+np.exp(- x @ alpha))\n",
    "\n",
    "# Функция подсчета градиента\n",
    "def gradient(y_true: int, y_pred: float, x: np.array) -> np.array:\n",
    "    \"\"\"\n",
    "    y_true - истинное значение ответа для объекта x\n",
    "    y_pred - значение степени принадлежности объекта x классу 1, предсказанное нашей моделью\n",
    "    x - вектор признакового описания данного объекта\n",
    "\n",
    "    На выходе ожидается получить вектор частных производных H по параметрам модели, предсказавшей значение y_pred\n",
    "    Обратите внимание, что размерность этого градиента должна получиться на единицу больше размерности x засчет своободного коэффициента a0\n",
    "    \"\"\"\n",
    "    diff = np.array([ y_true_i - y_pred_i for y_true_i, y_pred_i in zip(y_true, y_pred)])\n",
    "    grad = np.array(x.T()@diff)\n",
    "    \n",
    "    return grad\n",
    "\n",
    "\n",
    "# Функция обновления весов\n",
    "def update(alpha: np.array, gradient: np.array, lr: float):\n",
    "    \"\"\"\n",
    "    alpha: текущее приближения вектора параметров модели\n",
    "    gradient: посчитанный градиент по параметрам модели\n",
    "    lr: learning rate, множитель перед градиентом в формуле обновления параметров\n",
    "    \"\"\"\n",
    "    alpha_new = alpha + lr*gradient\n",
    "    return alpha_new\n",
    "\n",
    "\n",
    "# функция тренировки модели\n",
    "def train(\n",
    "    alpha0: np.array, x_train: np.array, y_train: np.array, lr: float, num_epoch: int\n",
    "):\n",
    "    \"\"\"\n",
    "    alpha0 - начальное приближение параметров модели\n",
    "    x_train - матрица объект-признак обучающей выборки\n",
    "    y_train - верные ответы для обучающей выборки\n",
    "    lr - learning rate, множитель перед градиентом в формуле обновления параметров\n",
    "    num_epoch - количество эпох обучения, то есть полных 'проходов' через весь датасет\n",
    "    \"\"\"\n",
    "    alpha = alpha0.copy()\n",
    "    for epo in range(num_epoch):\n",
    "        y_pred = sigmoid(x_train, alpha)\n",
    "        grad = gradient(y_train, y_pred, x_train)\n",
    "        alpha = update(alpha, grad, lr)\n",
    "\n",
    "    return alpha\n"
   ]
  },
  {
   "cell_type": "code",
   "execution_count": 22,
   "metadata": {},
   "outputs": [
    {
     "name": "stdout",
     "output_type": "stream",
     "text": [
      "[5.1 3.5 1.4 0.2]\n",
      "[4.9 3.  1.4 0.2]\n",
      "[4.7 3.2 1.3 0.2]\n"
     ]
    }
   ],
   "source": [
    "from sklearn.datasets import load_iris\n",
    "from sklearn.model_selection import train_test_split\n",
    "\n",
    "X,y = load_iris(return_X_y=True)\n",
    "X_train, y_train, X_test, y_test = train_test_split(X,y, test_size=0.3, shuffle=True, random_state=42, stratify=y)\n",
    "print(*X[0:3], sep='\\n')"
   ]
  },
  {
   "cell_type": "code",
   "execution_count": 18,
   "metadata": {},
   "outputs": [
    {
     "data": {
      "text/plain": [
       "array([0.15601864, 0.15599452, 0.05808361, 0.86617615])"
      ]
     },
     "execution_count": 18,
     "metadata": {},
     "output_type": "execute_result"
    }
   ],
   "source": [
    "alpha = np.random.rand(4)\n",
    "alpha"
   ]
  },
  {
   "cell_type": "code",
   "execution_count": 23,
   "metadata": {},
   "outputs": [
    {
     "ename": "TypeError",
     "evalue": "'numpy.ndarray' object is not callable",
     "output_type": "error",
     "traceback": [
      "\u001b[1;31m---------------------------------------------------------------------------\u001b[0m",
      "\u001b[1;31mTypeError\u001b[0m                                 Traceback (most recent call last)",
      "Cell \u001b[1;32mIn[23], line 1\u001b[0m\n\u001b[1;32m----> 1\u001b[0m alpha \u001b[38;5;241m=\u001b[39m \u001b[43mtrain\u001b[49m\u001b[43m(\u001b[49m\u001b[43malpha\u001b[49m\u001b[43m,\u001b[49m\u001b[43m \u001b[49m\u001b[43mX_train\u001b[49m\u001b[43m,\u001b[49m\u001b[43m \u001b[49m\u001b[43my_train\u001b[49m\u001b[43m,\u001b[49m\u001b[43m \u001b[49m\u001b[38;5;241;43m0.01\u001b[39;49m\u001b[43m,\u001b[49m\u001b[43m \u001b[49m\u001b[38;5;241;43m1000\u001b[39;49m\u001b[43m)\u001b[49m\n",
      "Cell \u001b[1;32mIn[11], line 50\u001b[0m, in \u001b[0;36mtrain\u001b[1;34m(alpha0, x_train, y_train, lr, num_epoch)\u001b[0m\n\u001b[0;32m     48\u001b[0m \u001b[38;5;28;01mfor\u001b[39;00m epo \u001b[38;5;129;01min\u001b[39;00m \u001b[38;5;28mrange\u001b[39m(num_epoch):\n\u001b[0;32m     49\u001b[0m     y_pred \u001b[38;5;241m=\u001b[39m sigmoid(x_train, alpha)\n\u001b[1;32m---> 50\u001b[0m     grad \u001b[38;5;241m=\u001b[39m \u001b[43mgradient\u001b[49m\u001b[43m(\u001b[49m\u001b[43my_train\u001b[49m\u001b[43m,\u001b[49m\u001b[43m \u001b[49m\u001b[43my_pred\u001b[49m\u001b[43m,\u001b[49m\u001b[43m \u001b[49m\u001b[43mx_train\u001b[49m\u001b[43m)\u001b[49m\n\u001b[0;32m     51\u001b[0m     alpha \u001b[38;5;241m=\u001b[39m update(alpha, grad, lr)\n\u001b[0;32m     53\u001b[0m \u001b[38;5;28;01mreturn\u001b[39;00m alpha\n",
      "Cell \u001b[1;32mIn[11], line 20\u001b[0m, in \u001b[0;36mgradient\u001b[1;34m(y_true, y_pred, x)\u001b[0m\n\u001b[0;32m     11\u001b[0m \u001b[38;5;250m\u001b[39m\u001b[38;5;124;03m\"\"\"\u001b[39;00m\n\u001b[0;32m     12\u001b[0m \u001b[38;5;124;03my_true - истинное значение ответа для объекта x\u001b[39;00m\n\u001b[0;32m     13\u001b[0m \u001b[38;5;124;03my_pred - значение степени принадлежности объекта x классу 1, предсказанное нашей моделью\u001b[39;00m\n\u001b[1;32m   (...)\u001b[0m\n\u001b[0;32m     17\u001b[0m \u001b[38;5;124;03mОбратите внимание, что размерность этого градиента должна получиться на единицу больше размерности x засчет своободного коэффициента a0\u001b[39;00m\n\u001b[0;32m     18\u001b[0m \u001b[38;5;124;03m\"\"\"\u001b[39;00m\n\u001b[0;32m     19\u001b[0m diff \u001b[38;5;241m=\u001b[39m np\u001b[38;5;241m.\u001b[39marray([ y_true_i \u001b[38;5;241m-\u001b[39m y_pred_i \u001b[38;5;28;01mfor\u001b[39;00m y_true_i, y_pred_i \u001b[38;5;129;01min\u001b[39;00m \u001b[38;5;28mzip\u001b[39m(y_true, y_pred)])\n\u001b[1;32m---> 20\u001b[0m grad \u001b[38;5;241m=\u001b[39m np\u001b[38;5;241m.\u001b[39marray(\u001b[43mx\u001b[49m\u001b[38;5;241;43m.\u001b[39;49m\u001b[43mT\u001b[49m\u001b[43m(\u001b[49m\u001b[43m)\u001b[49m\u001b[38;5;129m@diff\u001b[39m)\n\u001b[0;32m     22\u001b[0m \u001b[38;5;28;01mreturn\u001b[39;00m grad\n",
      "\u001b[1;31mTypeError\u001b[0m: 'numpy.ndarray' object is not callable"
     ]
    }
   ],
   "source": [
    "alpha = train(alpha, X_train, y_train, 0.01, 1000)"
   ]
  },
  {
   "cell_type": "markdown",
   "metadata": {
    "id": "zDcPxeLueFIk"
   },
   "source": [
    "# Замечания:\n",
    "\n",
    "1. В случае, если у Вас возникли сложности с выполнением первого задания и, как следствие, у Вас не выходит сделать это, мы рекомендуем подробно ознакомиться с главой **Производные $\\frac{\\partial H}{\\partial \\omega_i}$** нашей [лекции](https://colab.research.google.com/drive/1xjX_YnXcRr8HSiYLByMHxEIAADqs7QES?usp=sharing).\n",
    "\n",
    "2. Обращайте внимание на названия и порядок аргументов в сдаваемых на проверку функциях - они должны совпадать с тем, что указано в шаблоне кода.\n",
    "\n",
    "3. Обратите внимание, что матрица объект-признак в описании параметров функций обозначает переменную типа numpy.array(), каждый элемент которой - объект типа numpy.array() - вектор признаков соответствующего объекта.\n",
    "\n",
    "4. Считайте, что свободный коэффициент a0 находится **в конце** списка alpha."
   ]
  }
 ],
 "metadata": {
  "colab": {
   "provenance": []
  },
  "kernelspec": {
   "display_name": "Python 3",
   "name": "python3"
  },
  "language_info": {
   "name": "python",
   "version": "3.12.6"
  }
 },
 "nbformat": 4,
 "nbformat_minor": 0
}
